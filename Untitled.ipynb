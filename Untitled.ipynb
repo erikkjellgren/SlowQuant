{
 "cells": [
  {
   "cell_type": "code",
   "execution_count": 1,
   "id": "d070cb24-36b5-4166-a24c-b03147e77332",
   "metadata": {},
   "outputs": [
    {
     "name": "stdout",
     "output_type": "stream",
     "text": [
      "converged SCF energy = -74.9623593200333\n",
      "E(MP2) = -74.9988968573629  E_corr = -0.0365375373296464\n",
      "E(SCS-MP2) = -75.0044496453003  E_corr = -0.0420903252670412\n",
      "Number of shots has been set to value defined in primitive option:  None\n"
     ]
    }
   ],
   "source": [
    "import slowquant.SlowQuant as sq\n",
    "from qiskit_aer.primitives import Sampler, Estimator\n",
    "from qiskit_nature.second_q.mappers import JordanWignerMapper\n",
    "from slowquant.qiskit_interface.interface import QuantumInterface\n",
    "from slowquant.qiskit_interface.wavefunction import WaveFunction\n",
    "import pyscf\n",
    "from pyscf import mcscf, mp\n",
    "\n",
    "mol = pyscf.M(atom=f\"\"\"O   0.0  0.0           {0.1035174918};\n",
    "H   0.0  {0.7955612117} {-0.4640237459};\n",
    "H   0.0 {-0.7955612117} {-0.4640237459};\"\"\", basis=\"sto3g\", unit=\"angstrom\")\n",
    "myhf = mol.RHF().run()\n",
    "mymp = mp.MP2(myhf).run()\n",
    "noons, natorbs = mcscf.addons.make_natural_orbitals(mymp)\n",
    "\n",
    "primitive = Sampler(run_options={'shots': None})\n",
    "mapper = JordanWignerMapper()\n",
    "QI = QuantumInterface(primitive, \"UCCSD\", mapper)\n",
    "\n",
    "WF = WaveFunction(\n",
    "    mol.nao * 2,\n",
    "    mol.nelectron,\n",
    "    (4, 4),\n",
    "    natorbs,\n",
    "    mol.intor(\"int1e_kin\") + mol.intor(\"int1e_nuc\"),\n",
    "    mol.intor(\"int2e\"),\n",
    "    QI,\n",
    ")\n",
    "\n",
    "WF.ansatz_parameters = [3.141592653589793,\n",
    " -3.1341446621521327,\n",
    " -3.1409672187944864,\n",
    " 3.1415926527843148,\n",
    " 3.141592653589793,\n",
    " 3.1341652090572047,\n",
    " 3.140993807109206,\n",
    " 3.141592653589793,\n",
    " -3.1254506667532427,\n",
    " -0.026475440610291834,\n",
    " 1.6948143599648802e-07,\n",
    " 1.8142627844497383e-08,\n",
    " -0.04205454004175113,\n",
    " 3.732460118754943e-08,\n",
    " -0.07977948051046901,\n",
    " -0.05790538600216166,\n",
    " 5.438490990883338e-08,\n",
    " 7.413776170750452e-08,\n",
    " -0.05790523666055769,\n",
    " -0.07975355048729682,\n",
    " 9.051341898214105e-08,\n",
    " -0.04205491517122528,\n",
    " 9.788638788421622e-08,\n",
    " -5.3296688840021034e-08,\n",
    " -0.048284031870716504,\n",
    " 0.016145100852277494]\n",
    "\n",
    "#WF.run_vqe_2step(\"RotoSolve\", False)\n",
    "WF.precalc_rdm_paulis(3)"
   ]
  },
  {
   "cell_type": "code",
   "execution_count": 110,
   "id": "c5f39f84-833f-489b-a5da-7d78400a1047",
   "metadata": {},
   "outputs": [
    {
     "name": "stdout",
     "output_type": "stream",
     "text": [
      "LOADING\n",
      "Scalene extension successfully loaded. Note: Scalene currently only\n",
      "supports CPU+GPU profiling inside Jupyter notebooks. For full Scalene\n",
      "profiling, use the command line version. To profile in line mode, use\n",
      "`%scrun [options] statement`. To profile in cell mode, use `%%scalene\n",
      "[options]` followed by your code.\n"
     ]
    }
   ],
   "source": [
    "# Load Scalene\n",
    "%load_ext scalene"
   ]
  },
  {
   "cell_type": "code",
   "execution_count": 3,
   "id": "25673818-f237-4f05-89c2-26f7e29275b4",
   "metadata": {},
   "outputs": [
    {
     "name": "stdout",
     "output_type": "stream",
     "text": [
      "SCRUN MAGIC\n"
     ]
    },
    {
     "data": {
      "text/html": [
       "\n",
       "        <iframe\n",
       "            width=\"100%\"\n",
       "            height=\"400\"\n",
       "            src=\"http://localhost:8181\"\n",
       "            frameborder=\"0\"\n",
       "            allowfullscreen\n",
       "            \n",
       "        ></iframe>\n",
       "        "
      ],
      "text/plain": [
       "<IPython.lib.display.IFrame at 0x7d15d3597680>"
      ]
     },
     "metadata": {},
     "output_type": "display_data"
    }
   ],
   "source": [
    "# Profile just one line of code\n",
    "WF._rdm3 = None\n",
    "%scrun WF.rdm3"
   ]
  },
  {
   "cell_type": "code",
   "execution_count": 149,
   "id": "e59b938e-27a0-417b-8f02-7b7182156b23",
   "metadata": {},
   "outputs": [],
   "source": [
    "def get_bitstring_sign_old(op: str, binary: str) -> int:\n",
    "    sign = 1\n",
    "    for i, pauli in enumerate(op):\n",
    "        if not pauli == \"I\":\n",
    "            if binary[i] == \"1\":\n",
    "                sign = sign * (-1)\n",
    "    return sign\n",
    "\n",
    "def get_bitstring_sign_new(op: str, binary: str) -> int:\n",
    "    opbit = int(op.replace(\"I\", \"0\").replace(\"Z\", \"1\").replace(\"X\", \"1\").replace(\"Y\", \"1\"), 2)\n",
    "    count = (opbit & int(binary, 2)).bit_count()\n",
    "    if count%2 == 1:\n",
    "        return -1\n",
    "    return 1"
   ]
  },
  {
   "cell_type": "code",
   "execution_count": 136,
   "id": "2f4c4c83-0fe2-47db-97d9-311191b7dde8",
   "metadata": {},
   "outputs": [
    {
     "name": "stdout",
     "output_type": "stream",
     "text": [
      "64.6 µs ± 2.92 µs per loop (mean ± std. dev. of 7 runs, 1,000 loops each)\n"
     ]
    }
   ],
   "source": [
    "%timeit get_bitstring_sign1(\"X\"*1000, \"1\"*1000)"
   ]
  },
  {
   "cell_type": "code",
   "execution_count": 137,
   "id": "504b9b02-3bc8-4fd4-b3be-fa52bc92100e",
   "metadata": {},
   "outputs": [
    {
     "name": "stdout",
     "output_type": "stream",
     "text": [
      "68 µs ± 2.19 µs per loop (mean ± std. dev. of 7 runs, 10,000 loops each)\n"
     ]
    }
   ],
   "source": [
    "%timeit get_bitstring_sign2(\"X\"*1000, \"1\"*1000)"
   ]
  },
  {
   "cell_type": "code",
   "execution_count": 138,
   "id": "a8a36600-94c0-47ec-a5db-78904480e387",
   "metadata": {},
   "outputs": [
    {
     "name": "stdout",
     "output_type": "stream",
     "text": [
      "65.1 µs ± 665 ns per loop (mean ± std. dev. of 7 runs, 10,000 loops each)\n"
     ]
    }
   ],
   "source": [
    "%timeit get_bitstring_sign3(\"X\"*1000, \"1\"*1000)"
   ]
  },
  {
   "cell_type": "code",
   "execution_count": 145,
   "id": "dd59d502-c415-4cb2-bf52-fd06dcf9d692",
   "metadata": {},
   "outputs": [
    {
     "name": "stdout",
     "output_type": "stream",
     "text": [
      "5.54 µs ± 680 ns per loop (mean ± std. dev. of 7 runs, 10,000 loops each)\n"
     ]
    }
   ],
   "source": [
    "%timeit get_bitstring_sign4(\"X\"*1000, \"1\"*1000)"
   ]
  },
  {
   "cell_type": "raw",
   "id": "88d3c338-229c-415f-8bcb-435f60b30462",
   "metadata": {},
   "source": [
    "# No numba\n",
    "The slowest run took 8.53 times longer than the fastest. This could mean that an intermediate result is being cached.\n",
    "7.27 µs ± 8.37 µs per loop (mean ± std. dev. of 7 runs, 1 loop each)\n",
    "\n",
    "# jit\n",
    "11.2 µs ± 7.21 µs per loop (mean ± std. dev. of 7 runs, 1 loop each)\n",
    "\n",
    "# Numba cache=True\n",
    "3.04 µs ± 55.9 ns per loop (mean ± std. dev. of 7 runs, 100,000 loops each)\n",
    "\n",
    "# Numba cache + signature\n",
    "2.99 µs ± 41.5 ns per loop (mean ± std. dev. of 7 runs, 100,000 loops each)"
   ]
  },
  {
   "cell_type": "code",
   "execution_count": 18,
   "id": "e540dd5d-1660-41b5-986b-34975c3e8921",
   "metadata": {},
   "outputs": [],
   "source": [
    "@jit(nopython=True, cache=True)\n",
    "def fit_in_clique(pauli: str, head: str) -> tuple[bool, str]:\n",
    "    \"\"\"Check if a Pauli fits in a given clique.\n",
    "\n",
    "    Args:\n",
    "        pauli: Pauli string.\n",
    "        head: Clique head.\n",
    "\n",
    "    Returns:\n",
    "        If commuting and new clique head.\n",
    "    \"\"\"\n",
    "    is_commuting = True\n",
    "    new_head = \"\"\n",
    "    # Check commuting\n",
    "    for p_clique, p_op in zip(head, pauli):\n",
    "        if p_clique == \"I\" or p_op == \"I\":\n",
    "            continue\n",
    "        if p_clique != p_op:\n",
    "            is_commuting = False\n",
    "            break\n",
    "    # Check common Clique head\n",
    "    if is_commuting:\n",
    "        for p_clique, p_op in zip(head, pauli):\n",
    "            if p_clique != \"I\":\n",
    "                new_head += p_clique\n",
    "            else:\n",
    "                new_head += p_op\n",
    "    return is_commuting, new_head"
   ]
  },
  {
   "cell_type": "code",
   "execution_count": 20,
   "id": "f2314bb1-7f68-4abf-80ea-2360fabd2ba5",
   "metadata": {},
   "outputs": [
    {
     "name": "stdout",
     "output_type": "stream",
     "text": [
      "4.66 µs ± 163 ns per loop (mean ± std. dev. of 7 runs, 100,000 loops each)\n"
     ]
    }
   ],
   "source": [
    "%timeit fit_in_clique(\"XXXXXXXX\", \"XXXXXXXI\")"
   ]
  },
  {
   "cell_type": "raw",
   "id": "bd60286b-e6c8-4a79-b21b-750ab44a4376",
   "metadata": {},
   "source": [
    "# No numba\n",
    "1.12 µs ± 17.8 ns per loop (mean ± std. dev. of 7 runs, 100,000 loops each)\n",
    "\n",
    "# jit\n",
    "4.65 µs ± 65.9 ns per loop (mean ± std. dev. of 7 runs, 100,000 loops each)\n",
    "\n",
    "# Numba cache=True\n",
    "\n",
    "\n",
    "# Numba cache + signature\n"
   ]
  },
  {
   "cell_type": "code",
   "execution_count": 94,
   "id": "01fdac01-c221-4f73-bc57-335733fb8b04",
   "metadata": {},
   "outputs": [],
   "source": [
    "A = \"IZ\"\n",
    "B = A"
   ]
  },
  {
   "cell_type": "code",
   "execution_count": 95,
   "id": "59f8b158-0617-4262-ae14-ef9805678f34",
   "metadata": {},
   "outputs": [],
   "source": [
    "opbit = A.replace(\"I\", \"0\").replace(\"Z\", \"1\").replace(\"X\", \"1\").replace(\"Y\", \"1\")\n"
   ]
  },
  {
   "cell_type": "code",
   "execution_count": 96,
   "id": "90870fff-6fe4-4c8c-ab0c-f6fb5948583f",
   "metadata": {},
   "outputs": [
    {
     "data": {
      "text/plain": [
       "1"
      ]
     },
     "execution_count": 96,
     "metadata": {},
     "output_type": "execute_result"
    }
   ],
   "source": [
    "int(opbit)"
   ]
  },
  {
   "cell_type": "code",
   "execution_count": 157,
   "id": "4127d568-a927-4077-a1e7-d17a2e6adb4c",
   "metadata": {},
   "outputs": [
    {
     "name": "stdout",
     "output_type": "stream",
     "text": [
      "YZIYIYZIYY 1001111111 1 1\n",
      "ZXIIIIYIZY 1100100000 1 1\n",
      "ZIZIXYZYYY 1111001101 -1 -1\n",
      "IYIZYXXYII 1101101001 1 1\n",
      "IIIYZZYYXY 1010110111 -1 -1\n",
      "ZIIXIYYYXY 1101001111 1 1\n",
      "YZZYXYXXYY 0010000100 1 1\n",
      "YIYIIIZXZY 1010000110 1 1\n",
      "XXYXIZZXZY 0011011100 -1 -1\n",
      "XYIYIZYXXI 0010100010 -1 -1\n",
      "YZYIZYXZZI 1110111111 1 1\n",
      "XYXXZYIZII 0000010010 -1 -1\n",
      "XYXZYYZZIY 1000100110 -1 -1\n",
      "IXIZYZYYIZ 1010100100 1 1\n",
      "IZXXYYIIXY 1001000010 1 1\n",
      "IIXIZZIIXI 1010010110 -1 -1\n",
      "IIIIZIZYIZ 1000001001 1 1\n",
      "XYZZXXIXII 0111111000 -1 -1\n",
      "YXXYXZXIXY 0001001110 -1 -1\n",
      "IYXZYZYZZY 0101000101 1 1\n",
      "ZIXXYYZIZX 1001000111 1 1\n",
      "ZIIXYZZZIX 0111011111 -1 -1\n",
      "XXXYXXXZIX 0000101011 -1 -1\n",
      "ZIIZXXYZXI 1111101100 -1 -1\n",
      "IIIXIYXYYZ 0101011101 -1 -1\n",
      "YXXYYXIXXI 0001100101 -1 -1\n",
      "ZIIYXXXYIZ 1101011000 1 1\n",
      "ZYXYYIIXYX 1000100010 -1 -1\n",
      "XYXZXXXZIY 0111011101 -1 -1\n",
      "XZYXZIYIZX 0010100100 1 1\n",
      "IZXZXIXXZX 0111010000 -1 -1\n",
      "YYYXXYZYIX 1010111100 1 1\n",
      "ZXZIYZXZIY 1101111010 -1 -1\n",
      "ZXZXIYXZIY 1111100000 1 1\n",
      "XZXZIYIZXI 0101101000 1 1\n",
      "YIYIXYYZIX 0010100001 -1 -1\n",
      "YZIYXXXIII 0000001101 -1 -1\n",
      "YYXIYZZXXI 1001100100 -1 -1\n",
      "XIIXXYZYYZ 1111000000 1 1\n",
      "ZIIXIYYZYX 0001010001 -1 -1\n",
      "XZZIZYIXZI 1100000110 1 1\n",
      "ZZIYYIYZZI 1011110110 -1 -1\n",
      "ZYXIYYIIIY 1010111010 1 1\n",
      "IYIZZIZZII 1111111101 -1 -1\n",
      "IZYYYYZZYX 1110101011 1 1\n",
      "IZXIXXZZYY 0111001000 -1 -1\n",
      "XIIIIYZZZY 1011111110 -1 -1\n",
      "XYYYZYYIZY 0011000011 1 1\n",
      "ZIYXXIXYXY 1101101110 1 1\n",
      "IYZZZYZYXX 0101111010 1 1\n",
      "XZZIYXIYIX 1011110000 1 1\n",
      "IYIXXXXIII 1011010110 1 1\n",
      "ZIYZZXIXXZ 0101011111 -1 -1\n",
      "YYZZIYIYZY 1111111000 -1 -1\n",
      "YZIIIZIYZX 1011011100 -1 -1\n",
      "ZXIZZXIXIZ 1010011011 -1 -1\n",
      "ZYXZXZZXIY 0011110110 -1 -1\n",
      "XZYIXZZZXY 1101111100 1 1\n",
      "YYZXIIIZYZ 0011011010 -1 -1\n",
      "IZIIXZXYIZ 0010010111 -1 -1\n",
      "IXYXXIZYXY 1000100101 -1 -1\n",
      "XYZYYYYZZX 1110010010 -1 -1\n",
      "XXYZZYIIII 1011001011 -1 -1\n",
      "YXYZIXXIYX 1001010101 1 1\n",
      "XIXYXYIXIZ 0011011110 1 1\n",
      "IYYZZYIXXZ 0101011000 -1 -1\n",
      "YYZIIIIXXZ 1111011001 1 1\n",
      "XXIZZIZZZZ 0110100101 1 1\n",
      "YXIZZZXXYI 1101101001 -1 -1\n",
      "XXZZYXYIXX 1111000111 1 1\n",
      "ZXXZYYXIXX 0001111100 1 1\n",
      "ZXIZIYIYIY 1010110110 -1 -1\n",
      "IZIIYIXZZX 0110100101 1 1\n",
      "ZZXZYXXIII 0000001010 -1 -1\n",
      "YXIXZXIYII 1011101111 1 1\n",
      "IYXIZYXIYX 1110000111 1 1\n",
      "XIIXIXIIZI 1110001101 -1 -1\n",
      "ZXZZIIXXZI 0000001010 1 1\n",
      "ZXXZYZXZZZ 1110001001 -1 -1\n",
      "ZZIIIIIIXZ 0011101000 1 1\n",
      "IZZYIYYXYZ 0101011111 -1 -1\n",
      "IXYZYYZYIZ 1110000010 1 1\n",
      "IYIXIYIXXX 1001010110 1 1\n",
      "XXXZXXIYYY 1011011100 -1 -1\n",
      "YIXYIIYIZI 1110110001 1 1\n",
      "ZYZYYYYZIZ 1100011100 -1 -1\n",
      "IZXIZXXZXX 1001111001 1 1\n",
      "XXZZZZZIXZ 1101000110 1 1\n",
      "IZYIZXYYZY 1111100101 -1 -1\n",
      "XXIZYZXXYY 0010101010 -1 -1\n",
      "IXXIIIYZYX 1110111001 1 1\n",
      "ZZZYYIZIYX 1000001110 -1 -1\n",
      "XXIZZXYXZX 1001100011 -1 -1\n",
      "XZIXYYXIYY 1111010000 1 1\n",
      "YXXXIXIIIX 0101001110 1 1\n",
      "YZYYXYYXYY 1101011011 -1 -1\n",
      "IXYYYZYZYX 1100001101 1 1\n",
      "XYZYZZYXIZ 0000011100 -1 -1\n",
      "XIZIXYIZII 0001100010 -1 -1\n",
      "XYYIIXXIXX 0111001011 -1 -1\n"
     ]
    }
   ],
   "source": [
    "import numpy as np\n",
    "\n",
    "letters = [\"I\", \"Z\", \"X\", \"Y\"]\n",
    "occupation = [\"1\", \"0\"]\n",
    "\n",
    "for _ in range(100):\n",
    "    word = \"\"\n",
    "    state = \"\"\n",
    "    for _ in range(10):\n",
    "        word += letters[np.random.randint(0, 4)]\n",
    "        state += occupation[np.random.randint(0, 2)]\n",
    "    sign1 = get_bitstring_sign1(word, state)\n",
    "    sign2 = get_bitstring_sign4(word, state)\n",
    "    print(word, state, sign1, sign2)\n",
    "    if sign1 != sign2:\n",
    "        raise ValueError()"
   ]
  },
  {
   "cell_type": "code",
   "execution_count": 155,
   "id": "49f4157a-2d6e-4612-8b99-22dd7d956714",
   "metadata": {},
   "outputs": [
    {
     "data": {
      "text/plain": [
       "0"
      ]
     },
     "execution_count": 155,
     "metadata": {},
     "output_type": "execute_result"
    }
   ],
   "source": [
    "np.random.randint(0, 1)"
   ]
  },
  {
   "cell_type": "code",
   "execution_count": 109,
   "id": "b9ab3848-4913-43df-96ea-9ad89a5965cf",
   "metadata": {},
   "outputs": [
    {
     "data": {
      "text/plain": [
       "1"
      ]
     },
     "execution_count": 109,
     "metadata": {},
     "output_type": "execute_result"
    }
   ],
   "source": [
    "get_bitstring_sign4(\"II\", \"11\")"
   ]
  },
  {
   "cell_type": "code",
   "execution_count": 87,
   "id": "b4707f4f-2a72-4ce1-9920-90b9a0abe7c6",
   "metadata": {},
   "outputs": [],
   "source": [
    "op = \"XX\"\n",
    "opbit = int(op.replace(\"I\", \"0\").replace(\"Z\", \"1\").replace(\"X\", \"1\").replace(\"Y\", \"1\"), 2)"
   ]
  },
  {
   "cell_type": "code",
   "execution_count": 88,
   "id": "516ec0b4-3a44-4584-91b5-c6db8125bf2e",
   "metadata": {},
   "outputs": [
    {
     "data": {
      "text/plain": [
       "3"
      ]
     },
     "execution_count": 88,
     "metadata": {},
     "output_type": "execute_result"
    }
   ],
   "source": [
    "opbit"
   ]
  },
  {
   "cell_type": "code",
   "execution_count": 115,
   "id": "b17dee59-8998-497c-b655-9fd5bfca878b",
   "metadata": {},
   "outputs": [
    {
     "name": "stdout",
     "output_type": "stream",
     "text": [
      "SCRUN MAGIC\n"
     ]
    },
    {
     "data": {
      "text/html": [
       "\n",
       "        <iframe\n",
       "            width=\"100%\"\n",
       "            height=\"400\"\n",
       "            src=\"http://localhost:8182\"\n",
       "            frameborder=\"0\"\n",
       "            allowfullscreen\n",
       "            \n",
       "        ></iframe>\n",
       "        "
      ],
      "text/plain": [
       "<IPython.lib.display.IFrame at 0x7e7df4b8b260>"
      ]
     },
     "metadata": {},
     "output_type": "display_data"
    }
   ],
   "source": [
    "def many_runs():\n",
    "    for _ in range(1000000):\n",
    "        op, binary = \"X\"*1000, \"1\"*1000\n",
    "        opbit = int(op.replace(\"I\", \"0\").replace(\"Z\", \"1\").replace(\"X\", \"1\").replace(\"Y\", \"1\"), 2)\n",
    "        count = (opbit & int(binary, 2)).bit_count()\n",
    "        if count%2 == 1:\n",
    "            okay = -1\n",
    "        okay = 1\n",
    "\n",
    "%scrun many_runs()"
   ]
  },
  {
   "cell_type": "code",
   "execution_count": 146,
   "id": "baf02fc9-5a28-4e8b-af85-4b38f9e783de",
   "metadata": {},
   "outputs": [
    {
     "ename": "TypeError",
     "evalue": "replace expected at least 2 arguments, got 1",
     "output_type": "error",
     "traceback": [
      "\u001b[0;31m---------------------------------------------------------------------------\u001b[0m",
      "\u001b[0;31mTypeError\u001b[0m                                 Traceback (most recent call last)",
      "Cell \u001b[0;32mIn[146], line 1\u001b[0m\n\u001b[0;32m----> 1\u001b[0m B \u001b[38;5;241m=\u001b[39m \u001b[43mA\u001b[49m\u001b[38;5;241;43m.\u001b[39;49m\u001b[43mreplace\u001b[49m\u001b[43m(\u001b[49m\u001b[43m{\u001b[49m\u001b[38;5;124;43m\"\u001b[39;49m\u001b[38;5;124;43mI\u001b[39;49m\u001b[38;5;124;43m\"\u001b[39;49m\u001b[43m:\u001b[49m\u001b[43m \u001b[49m\u001b[38;5;124;43m\"\u001b[39;49m\u001b[38;5;124;43m0\u001b[39;49m\u001b[38;5;124;43m\"\u001b[39;49m\u001b[43m,\u001b[49m\u001b[43m \u001b[49m\u001b[38;5;124;43m\"\u001b[39;49m\u001b[38;5;124;43mZ\u001b[39;49m\u001b[38;5;124;43m\"\u001b[39;49m\u001b[43m:\u001b[49m\u001b[43m \u001b[49m\u001b[38;5;124;43m\"\u001b[39;49m\u001b[38;5;124;43m1\u001b[39;49m\u001b[38;5;124;43m\"\u001b[39;49m\u001b[43m,\u001b[49m\u001b[43m \u001b[49m\u001b[38;5;124;43m\"\u001b[39;49m\u001b[38;5;124;43mX\u001b[39;49m\u001b[38;5;124;43m\"\u001b[39;49m\u001b[43m:\u001b[49m\u001b[43m \u001b[49m\u001b[38;5;124;43m\"\u001b[39;49m\u001b[38;5;124;43m1\u001b[39;49m\u001b[38;5;124;43m\"\u001b[39;49m\u001b[43m,\u001b[49m\u001b[43m \u001b[49m\u001b[38;5;124;43m\"\u001b[39;49m\u001b[38;5;124;43mY\u001b[39;49m\u001b[38;5;124;43m\"\u001b[39;49m\u001b[43m:\u001b[49m\u001b[43m \u001b[49m\u001b[38;5;124;43m\"\u001b[39;49m\u001b[38;5;124;43m1\u001b[39;49m\u001b[38;5;124;43m\"\u001b[39;49m\u001b[43m}\u001b[49m\u001b[43m)\u001b[49m\n",
      "\u001b[0;31mTypeError\u001b[0m: replace expected at least 2 arguments, got 1"
     ]
    }
   ],
   "source": [
    "B = A.replace({\"I\": \"0\", \"Z\": \"1\", \"X\": \"1\", \"Y\": \"1\"})"
   ]
  },
  {
   "cell_type": "code",
   "execution_count": 147,
   "id": "3add92b1-da34-4298-beca-e8457dbb0ec3",
   "metadata": {},
   "outputs": [
    {
     "data": {
      "text/plain": [
       "'01'"
      ]
     },
     "execution_count": 147,
     "metadata": {},
     "output_type": "execute_result"
    }
   ],
   "source": [
    "B"
   ]
  },
  {
   "cell_type": "code",
   "execution_count": 164,
   "id": "f94b6349-8cf1-460b-870d-9b2a1c582378",
   "metadata": {},
   "outputs": [
    {
     "data": {
      "text/plain": [
       "'0b1000'"
      ]
     },
     "execution_count": 164,
     "metadata": {},
     "output_type": "execute_result"
    }
   ],
   "source": [
    "bin(15 & 8)"
   ]
  },
  {
   "cell_type": "code",
   "execution_count": 167,
   "id": "ba9649bf-e377-4a08-a73d-43fd8494c157",
   "metadata": {},
   "outputs": [
    {
     "data": {
      "text/plain": [
       "'0b1111'"
      ]
     },
     "execution_count": 167,
     "metadata": {},
     "output_type": "execute_result"
    }
   ],
   "source": [
    "bin(15)"
   ]
  },
  {
   "cell_type": "code",
   "execution_count": 166,
   "id": "09d40e21-e937-448c-be30-ba0bfb034cea",
   "metadata": {},
   "outputs": [
    {
     "data": {
      "text/plain": [
       "'0b1000'"
      ]
     },
     "execution_count": 166,
     "metadata": {},
     "output_type": "execute_result"
    }
   ],
   "source": [
    "bin(8)"
   ]
  },
  {
   "cell_type": "code",
   "execution_count": 170,
   "id": "b3ca36af-6115-41f6-8dfe-54bb918e44d6",
   "metadata": {},
   "outputs": [
    {
     "data": {
      "text/plain": [
       "8"
      ]
     },
     "execution_count": 170,
     "metadata": {},
     "output_type": "execute_result"
    }
   ],
   "source": [
    "~(~8)"
   ]
  },
  {
   "cell_type": "code",
   "execution_count": 186,
   "id": "f36d2bab-1188-4349-9867-bc1b3a0a88aa",
   "metadata": {},
   "outputs": [
    {
     "data": {
      "text/plain": [
       "'0b0'"
      ]
     },
     "execution_count": 186,
     "metadata": {},
     "output_type": "execute_result"
    }
   ],
   "source": [
    "bin(~(15)+16)"
   ]
  },
  {
   "cell_type": "code",
   "execution_count": 190,
   "id": "c24a299f-07e3-4b34-9d20-70e7220f8247",
   "metadata": {},
   "outputs": [
    {
     "data": {
      "text/plain": [
       "7"
      ]
     },
     "execution_count": 190,
     "metadata": {},
     "output_type": "execute_result"
    }
   ],
   "source": [
    "8 ^ ((1 << (8).bit_length()) - 1)"
   ]
  },
  {
   "cell_type": "code",
   "execution_count": 191,
   "id": "f3c095b1-f1b4-49b7-883e-4c69c6bc657c",
   "metadata": {},
   "outputs": [],
   "source": [
    "n = 8"
   ]
  },
  {
   "cell_type": "code",
   "execution_count": 192,
   "id": "f74ac486-6045-49a6-8036-3898aef2172f",
   "metadata": {},
   "outputs": [
    {
     "data": {
      "text/plain": [
       "7"
      ]
     },
     "execution_count": 192,
     "metadata": {},
     "output_type": "execute_result"
    }
   ],
   "source": [
    "n ^ ((1 << n.bit_length()) - 1)"
   ]
  },
  {
   "cell_type": "code",
   "execution_count": 196,
   "id": "4a55d622-3ae8-46b3-96aa-4c63008b9c63",
   "metadata": {},
   "outputs": [
    {
     "data": {
      "text/plain": [
       "-9"
      ]
     },
     "execution_count": 196,
     "metadata": {},
     "output_type": "execute_result"
    }
   ],
   "source": [
    "(~n)"
   ]
  },
  {
   "cell_type": "code",
   "execution_count": 2,
   "id": "8194b45d-ce5c-403c-ab24-d8a71c0f764c",
   "metadata": {},
   "outputs": [
    {
     "name": "stdout",
     "output_type": "stream",
     "text": [
      "converged SCF energy = -74.9623593200333\n",
      "E(MP2) = -74.9988968573629  E_corr = -0.0365375373296443\n",
      "E(SCS-MP2) = -75.0044496453003  E_corr = -0.0420903252670388\n",
      "Number of shots has been set to value defined in primitive option:  None\n",
      "Full optimization\n",
      "Iteration # | Iteration time [s] | Electronic energy [Hartree]\n",
      "--------Ansatz optimization\n",
      "--------Iteration # | Iteration time [s] | Electronic energy [Hartree]\n"
     ]
    },
    {
     "ename": "KeyboardInterrupt",
     "evalue": "",
     "output_type": "error",
     "traceback": [
      "\u001b[0;31m---------------------------------------------------------------------------\u001b[0m",
      "\u001b[0;31mKeyboardInterrupt\u001b[0m                         Traceback (most recent call last)",
      "Cell \u001b[0;32mIn[2], line 30\u001b[0m\n\u001b[1;32m     18\u001b[0m QI \u001b[38;5;241m=\u001b[39m QuantumInterface(primitive, \u001b[38;5;124m\"\u001b[39m\u001b[38;5;124mUCCSD\u001b[39m\u001b[38;5;124m\"\u001b[39m, mapper)\n\u001b[1;32m     20\u001b[0m WF \u001b[38;5;241m=\u001b[39m WaveFunction(\n\u001b[1;32m     21\u001b[0m     mol\u001b[38;5;241m.\u001b[39mnao \u001b[38;5;241m*\u001b[39m \u001b[38;5;241m2\u001b[39m,\n\u001b[1;32m     22\u001b[0m     mol\u001b[38;5;241m.\u001b[39mnelectron,\n\u001b[0;32m   (...)\u001b[0m\n\u001b[1;32m     27\u001b[0m     QI,\n\u001b[1;32m     28\u001b[0m )\n\u001b[0;32m---> 30\u001b[0m \u001b[43mWF\u001b[49m\u001b[38;5;241;43m.\u001b[39;49m\u001b[43mrun_vqe_2step\u001b[49m\u001b[43m(\u001b[49m\u001b[38;5;124;43m\"\u001b[39;49m\u001b[38;5;124;43mRotoSolve\u001b[39;49m\u001b[38;5;124;43m\"\u001b[39;49m\u001b[43m,\u001b[49m\u001b[43m \u001b[49m\u001b[38;5;28;43;01mTrue\u001b[39;49;00m\u001b[43m)\u001b[49m\n",
      "File \u001b[0;32m~/gitreps/SlowQuant/slowquant/qiskit_interface/wavefunction.py:880\u001b[0m, in \u001b[0;36mWaveFunction.run_vqe_2step\u001b[0;34m(self, optimizer_name, orbital_optimization, tol, maxiter, is_silent_subiterations)\u001b[0m\n\u001b[1;32m    878\u001b[0m H \u001b[38;5;241m=\u001b[39m hamiltonian_pauli_0i_0a(\u001b[38;5;28mself\u001b[39m\u001b[38;5;241m.\u001b[39mh_mo, \u001b[38;5;28mself\u001b[39m\u001b[38;5;241m.\u001b[39mg_mo, \u001b[38;5;28mself\u001b[39m\u001b[38;5;241m.\u001b[39mnum_inactive_orbs, \u001b[38;5;28mself\u001b[39m\u001b[38;5;241m.\u001b[39mnum_active_orbs)\n\u001b[1;32m    879\u001b[0m H \u001b[38;5;241m=\u001b[39m H\u001b[38;5;241m.\u001b[39mget_folded_operator(\u001b[38;5;28mself\u001b[39m\u001b[38;5;241m.\u001b[39mnum_inactive_orbs, \u001b[38;5;28mself\u001b[39m\u001b[38;5;241m.\u001b[39mnum_active_orbs, \u001b[38;5;28mself\u001b[39m\u001b[38;5;241m.\u001b[39mnum_virtual_orbs)\n\u001b[0;32m--> 880\u001b[0m energy_theta \u001b[38;5;241m=\u001b[39m partial(\n\u001b[1;32m    881\u001b[0m     calc_energy_theta,\n\u001b[1;32m    882\u001b[0m     operator\u001b[38;5;241m=\u001b[39mH,\n\u001b[1;32m    883\u001b[0m     quantum_interface\u001b[38;5;241m=\u001b[39m\u001b[38;5;28mself\u001b[39m\u001b[38;5;241m.\u001b[39mQI,\n\u001b[1;32m    884\u001b[0m )\n\u001b[1;32m    885\u001b[0m gradient_theta \u001b[38;5;241m=\u001b[39m partial(ansatz_parameters_gradient, operator\u001b[38;5;241m=\u001b[39mH, quantum_interface\u001b[38;5;241m=\u001b[39m\u001b[38;5;28mself\u001b[39m\u001b[38;5;241m.\u001b[39mQI)\n\u001b[1;32m    886\u001b[0m optimizer \u001b[38;5;241m=\u001b[39m Optimizers(\n\u001b[1;32m    887\u001b[0m     energy_theta,\n\u001b[1;32m    888\u001b[0m     optimizer_name,\n\u001b[0;32m   (...)\u001b[0m\n\u001b[1;32m    892\u001b[0m     is_silent\u001b[38;5;241m=\u001b[39mis_silent_subiterations,\n\u001b[1;32m    893\u001b[0m )\n",
      "File \u001b[0;32m~/gitreps/SlowQuant/slowquant/qiskit_interface/optimizers.py:83\u001b[0m, in \u001b[0;36mminimize\u001b[0;34m(self, x0, extra_options)\u001b[0m\n\u001b[1;32m     81\u001b[0m \u001b[38;5;28mself\u001b[39m\u001b[38;5;241m.\u001b[39m_start \u001b[38;5;241m=\u001b[39m time\u001b[38;5;241m.\u001b[39mtime()\n\u001b[1;32m     82\u001b[0m \u001b[38;5;28mself\u001b[39m\u001b[38;5;241m.\u001b[39m_iteration \u001b[38;5;241m=\u001b[39m \u001b[38;5;241m0\u001b[39m\n\u001b[0;32m---> 83\u001b[0m print_progress \u001b[38;5;241m=\u001b[39m partial(\u001b[38;5;28mself\u001b[39m\u001b[38;5;241m.\u001b[39m_print_progress, fun\u001b[38;5;241m=\u001b[39m\u001b[38;5;28mself\u001b[39m\u001b[38;5;241m.\u001b[39mfun, silent\u001b[38;5;241m=\u001b[39m\u001b[38;5;28mself\u001b[39m\u001b[38;5;241m.\u001b[39mis_silent)\n\u001b[1;32m     84\u001b[0m \u001b[38;5;28;01mif\u001b[39;00m \u001b[38;5;28mself\u001b[39m\u001b[38;5;241m.\u001b[39mmethod \u001b[38;5;129;01min\u001b[39;00m (\u001b[38;5;124m\"\u001b[39m\u001b[38;5;124mslsqp\u001b[39m\u001b[38;5;124m\"\u001b[39m, \u001b[38;5;124m\"\u001b[39m\u001b[38;5;124ml-bfgs-b\u001b[39m\u001b[38;5;124m\"\u001b[39m):\n\u001b[1;32m     85\u001b[0m     \u001b[38;5;28;01mif\u001b[39;00m \u001b[38;5;28mself\u001b[39m\u001b[38;5;241m.\u001b[39mgrad \u001b[38;5;129;01mis\u001b[39;00m \u001b[38;5;129;01mnot\u001b[39;00m \u001b[38;5;28;01mNone\u001b[39;00m:\n",
      "File \u001b[0;32m~/gitreps/SlowQuant/slowquant/qiskit_interface/optimizers.py:162\u001b[0m, in \u001b[0;36mminimize\u001b[0;34m(self, f, x0)\u001b[0m\n\u001b[1;32m    139\u001b[0m \u001b[38;5;28;01mclass\u001b[39;00m \u001b[38;5;21;01mRotoSolve\u001b[39;00m:\n\u001b[1;32m    140\u001b[0m \u001b[38;5;250m    \u001b[39m\u001b[38;5;124mr\u001b[39m\u001b[38;5;124;03m\"\"\"Rotosolve optimizer.\u001b[39;00m\n\u001b[1;32m    141\u001b[0m \n\u001b[1;32m    142\u001b[0m \u001b[38;5;124;03m    Implemenation of Rotosolver assuming three eigenvalues for generators.\u001b[39;00m\n\u001b[1;32m    143\u001b[0m \u001b[38;5;124;03m    This works for fermionic generators of the type:\u001b[39;00m\n\u001b[1;32m    144\u001b[0m \n\u001b[1;32m    145\u001b[0m \u001b[38;5;124;03m    .. math::\u001b[39;00m\n\u001b[1;32m    146\u001b[0m \u001b[38;5;124;03m        \\hat{G}_{pq} = \\hat{a}^\\dagger_p \\hat{a}_q - \\hat{a}_q^\\dagger \\hat{a}_p\u001b[39;00m\n\u001b[1;32m    147\u001b[0m \n\u001b[1;32m    148\u001b[0m \u001b[38;5;124;03m    and,\u001b[39;00m\n\u001b[1;32m    149\u001b[0m \n\u001b[1;32m    150\u001b[0m \u001b[38;5;124;03m    .. math::\u001b[39;00m\n\u001b[1;32m    151\u001b[0m \u001b[38;5;124;03m        \\hat{G}_{pqrs} = \\hat{a}^\\dagger_p \\hat{a}^\\dagger_q \\hat{a}_r \\hat{a}_s - \\hat{a}^\\dagger_s \\hat{a}^\\dagger_r \\hat{a}_p \\hat{a}_q\u001b[39;00m\n\u001b[1;32m    152\u001b[0m \n\u001b[1;32m    153\u001b[0m \u001b[38;5;124;03m    Rotosolve works by exactly reconstrucing the energy function in a single parameter:\u001b[39;00m\n\u001b[1;32m    154\u001b[0m \n\u001b[1;32m    155\u001b[0m \u001b[38;5;124;03m    .. math::\u001b[39;00m\n\u001b[1;32m    156\u001b[0m \u001b[38;5;124;03m        E(x) = \\frac{\\sin\\left(\\frac{2R+1}{2}x\\right)}{2R+1}\\sum_{\\mu=-R}^{R}E(x_\\mu)\\frac{(-1)^\\mu}{\\sin\\left(\\frac{x - x_\\mu}{2}\\right)}\u001b[39;00m\n\u001b[1;32m    157\u001b[0m \n\u001b[1;32m    158\u001b[0m \u001b[38;5;124;03m    With :math:`R` being the number of different positive differences between eigenvalues, and :math:`x_\\mu=\\frac{2\\mu}{2R+1}\\pi`.\u001b[39;00m\n\u001b[1;32m    159\u001b[0m \n\u001b[1;32m    160\u001b[0m \u001b[38;5;124;03m    After the function :math:`E(x)` have been reconstruced the global minima of the function can be found classically.\u001b[39;00m\n\u001b[1;32m    161\u001b[0m \n\u001b[0;32m--> 162\u001b[0m \u001b[38;5;124;03m    #. 10.22331/q-2021-01-28-391, Algorithm 1\u001b[39;00m\n\u001b[1;32m    163\u001b[0m \u001b[38;5;124;03m    #. 10.22331/q-2022-03-30-677, Eq. (57)\u001b[39;00m\n\u001b[1;32m    164\u001b[0m \u001b[38;5;124;03m    \"\"\"\u001b[39;00m\n\u001b[1;32m    166\u001b[0m     \u001b[38;5;28;01mdef\u001b[39;00m \u001b[38;5;21m__init__\u001b[39m(\n\u001b[1;32m    167\u001b[0m         \u001b[38;5;28mself\u001b[39m,\n\u001b[1;32m    168\u001b[0m         R: \u001b[38;5;28mdict\u001b[39m[\u001b[38;5;28mstr\u001b[39m, \u001b[38;5;28mint\u001b[39m],\n\u001b[0;32m   (...)\u001b[0m\n\u001b[1;32m    172\u001b[0m         callback: Callable[[\u001b[38;5;28mlist\u001b[39m[\u001b[38;5;28mfloat\u001b[39m]], \u001b[38;5;28;01mNone\u001b[39;00m] \u001b[38;5;241m|\u001b[39m \u001b[38;5;28;01mNone\u001b[39;00m \u001b[38;5;241m=\u001b[39m \u001b[38;5;28;01mNone\u001b[39;00m,\n\u001b[1;32m    173\u001b[0m     ) \u001b[38;5;241m-\u001b[39m\u001b[38;5;241m>\u001b[39m \u001b[38;5;28;01mNone\u001b[39;00m:\n\u001b[1;32m    174\u001b[0m \u001b[38;5;250m        \u001b[39m\u001b[38;5;124;03m\"\"\"Initialize Rotosolver.\u001b[39;00m\n\u001b[1;32m    175\u001b[0m \n\u001b[1;32m    176\u001b[0m \u001b[38;5;124;03m        Args:\u001b[39;00m\n\u001b[0;32m   (...)\u001b[0m\n\u001b[1;32m    181\u001b[0m \u001b[38;5;124;03m            callback: Callback function, takes only x (parameters) as an argument.\u001b[39;00m\n\u001b[1;32m    182\u001b[0m \u001b[38;5;124;03m        \"\"\"\u001b[39;00m\n",
      "File \u001b[0;32m~/gitreps/SlowQuant/slowquant/qiskit_interface/optimizers.py:209\u001b[0m, in \u001b[0;36mget_energy_evals\u001b[0;34m(f, x, idx, R)\u001b[0m\n\u001b[1;32m    207\u001b[0m e_vals \u001b[38;5;241m=\u001b[39m get_energy_evals(f, x, i, \u001b[38;5;28mself\u001b[39m\u001b[38;5;241m.\u001b[39m_R[par_name])\n\u001b[1;32m    208\u001b[0m f_reconstructed \u001b[38;5;241m=\u001b[39m partial(reconstructed_f, energy_vals\u001b[38;5;241m=\u001b[39me_vals, R\u001b[38;5;241m=\u001b[39m\u001b[38;5;28mself\u001b[39m\u001b[38;5;241m.\u001b[39m_R[par_name])\n\u001b[0;32m--> 209\u001b[0m vecf \u001b[38;5;241m=\u001b[39m np\u001b[38;5;241m.\u001b[39mvectorize(f_reconstructed)\n\u001b[1;32m    210\u001b[0m values \u001b[38;5;241m=\u001b[39m vecf(np\u001b[38;5;241m.\u001b[39mlinspace(\u001b[38;5;241m-\u001b[39mnp\u001b[38;5;241m.\u001b[39mpi, np\u001b[38;5;241m.\u001b[39mpi, \u001b[38;5;28mint\u001b[39m(\u001b[38;5;241m1e4\u001b[39m)))\n\u001b[1;32m    211\u001b[0m theta \u001b[38;5;241m=\u001b[39m np\u001b[38;5;241m.\u001b[39mlinspace(\u001b[38;5;241m-\u001b[39mnp\u001b[38;5;241m.\u001b[39mpi, np\u001b[38;5;241m.\u001b[39mpi, \u001b[38;5;28mint\u001b[39m(\u001b[38;5;241m1e4\u001b[39m))[np\u001b[38;5;241m.\u001b[39margmin(values)]\n",
      "File \u001b[0;32m~/gitreps/SlowQuant/slowquant/qiskit_interface/wavefunction.py:972\u001b[0m, in \u001b[0;36mcalc_energy_theta\u001b[0;34m(parameters, operator, quantum_interface)\u001b[0m\n\u001b[1;32m    968\u001b[0m \u001b[38;5;28;01mif\u001b[39;00m orbital_optimization:\n\u001b[1;32m    969\u001b[0m     \u001b[38;5;28;01mif\u001b[39;00m \u001b[38;5;28mlen\u001b[39m(\u001b[38;5;28mself\u001b[39m\u001b[38;5;241m.\u001b[39mansatz_parameters) \u001b[38;5;241m>\u001b[39m \u001b[38;5;241m0\u001b[39m:\n\u001b[1;32m    970\u001b[0m         energy \u001b[38;5;241m=\u001b[39m partial(\n\u001b[1;32m    971\u001b[0m             calc_energy_both,\n\u001b[0;32m--> 972\u001b[0m             wf\u001b[38;5;241m=\u001b[39m\u001b[38;5;28mself\u001b[39m,\n\u001b[1;32m    973\u001b[0m         )\n\u001b[1;32m    974\u001b[0m         gradient \u001b[38;5;241m=\u001b[39m partial(\n\u001b[1;32m    975\u001b[0m             calc_gradient_both,\n\u001b[1;32m    976\u001b[0m             wf\u001b[38;5;241m=\u001b[39m\u001b[38;5;28mself\u001b[39m,\n\u001b[1;32m    977\u001b[0m         )\n\u001b[1;32m    978\u001b[0m     \u001b[38;5;28;01melse\u001b[39;00m:\n",
      "File \u001b[0;32m~/gitreps/SlowQuant/slowquant/qiskit_interface/interface.py:342\u001b[0m, in \u001b[0;36mQuantumInterface.quantum_expectation_value\u001b[0;34m(self, op, custom_parameters)\u001b[0m\n\u001b[1;32m    340\u001b[0m     \u001b[38;5;28;01mreturn\u001b[39;00m \u001b[38;5;28mself\u001b[39m\u001b[38;5;241m.\u001b[39m_estimator_quantum_expectation_value(op, run_parameters)\n\u001b[1;32m    341\u001b[0m \u001b[38;5;28;01mif\u001b[39;00m \u001b[38;5;28misinstance\u001b[39m(\u001b[38;5;28mself\u001b[39m\u001b[38;5;241m.\u001b[39m_primitive, BaseSampler) \u001b[38;5;129;01mand\u001b[39;00m custom_parameters \u001b[38;5;129;01mis\u001b[39;00m \u001b[38;5;28;01mNone\u001b[39;00m:\n\u001b[0;32m--> 342\u001b[0m     \u001b[38;5;28;01mreturn\u001b[39;00m \u001b[38;5;28;43mself\u001b[39;49m\u001b[38;5;241;43m.\u001b[39;49m\u001b[43m_sampler_quantum_expectation_value\u001b[49m\u001b[43m(\u001b[49m\u001b[43mop\u001b[49m\u001b[43m)\u001b[49m\n\u001b[1;32m    343\u001b[0m \u001b[38;5;28;01mif\u001b[39;00m \u001b[38;5;28misinstance\u001b[39m(\u001b[38;5;28mself\u001b[39m\u001b[38;5;241m.\u001b[39m_primitive, BaseSampler):\n\u001b[1;32m    344\u001b[0m     \u001b[38;5;28;01mreturn\u001b[39;00m \u001b[38;5;28mself\u001b[39m\u001b[38;5;241m.\u001b[39m_sampler_quantum_expectation_value_nosave(op, run_parameters)\n",
      "File \u001b[0;32m~/gitreps/SlowQuant/slowquant/qiskit_interface/interface.py:421\u001b[0m, in \u001b[0;36mQuantumInterface._sampler_quantum_expectation_value\u001b[0;34m(self, op)\u001b[0m\n\u001b[1;32m    417\u001b[0m     \u001b[38;5;28mself\u001b[39m\u001b[38;5;241m.\u001b[39m_make_Minv()\n\u001b[1;32m    419\u001b[0m \u001b[38;5;66;03m# Simulate each clique head with one combined device call\u001b[39;00m\n\u001b[1;32m    420\u001b[0m \u001b[38;5;66;03m# and return a list of distributions\u001b[39;00m\n\u001b[0;32m--> 421\u001b[0m distr \u001b[38;5;241m=\u001b[39m \u001b[38;5;28;43mself\u001b[39;49m\u001b[38;5;241;43m.\u001b[39;49m\u001b[43m_one_call_sampler_distributions\u001b[49m\u001b[43m(\u001b[49m\u001b[43mPauliList\u001b[49m\u001b[43m(\u001b[49m\u001b[43mnew_heads\u001b[49m\u001b[43m)\u001b[49m\u001b[43m,\u001b[49m\u001b[43m \u001b[49m\u001b[38;5;28;43mself\u001b[39;49m\u001b[38;5;241;43m.\u001b[39;49m\u001b[43mparameters\u001b[49m\u001b[43m,\u001b[49m\u001b[43m \u001b[49m\u001b[38;5;28;43mself\u001b[39;49m\u001b[38;5;241;43m.\u001b[39;49m\u001b[43mcircuit\u001b[49m\u001b[43m)\u001b[49m\n\u001b[1;32m    422\u001b[0m \u001b[38;5;28;01mif\u001b[39;00m \u001b[38;5;28mself\u001b[39m\u001b[38;5;241m.\u001b[39m_do_M_mitigation:  \u001b[38;5;66;03m# apply error mitigation if requested\u001b[39;00m\n\u001b[1;32m    423\u001b[0m     \u001b[38;5;28;01mfor\u001b[39;00m i, dist \u001b[38;5;129;01min\u001b[39;00m \u001b[38;5;28menumerate\u001b[39m(distr):\n",
      "File \u001b[0;32m~/gitreps/SlowQuant/slowquant/qiskit_interface/interface.py:623\u001b[0m, in \u001b[0;36mQuantumInterface._one_call_sampler_distributions\u001b[0;34m(self, paulis, run_parameters, circuits_in)\u001b[0m\n\u001b[1;32m    620\u001b[0m \u001b[38;5;28mself\u001b[39m\u001b[38;5;241m.\u001b[39mtotal_paulis_evaluated \u001b[38;5;241m+\u001b[39m\u001b[38;5;241m=\u001b[39m num_paulis \u001b[38;5;241m*\u001b[39m num_circuits \u001b[38;5;241m*\u001b[39m \u001b[38;5;28mself\u001b[39m\u001b[38;5;241m.\u001b[39m_circuit_multipl\n\u001b[1;32m    622\u001b[0m \u001b[38;5;66;03m# Get quasi-distribution in binary probabilities\u001b[39;00m\n\u001b[0;32m--> 623\u001b[0m distr \u001b[38;5;241m=\u001b[39m [res\u001b[38;5;241m.\u001b[39mbinary_probabilities() \u001b[38;5;28;01mfor\u001b[39;00m res \u001b[38;5;129;01min\u001b[39;00m \u001b[43mjob\u001b[49m\u001b[38;5;241;43m.\u001b[39;49m\u001b[43mresult\u001b[49m\u001b[43m(\u001b[49m\u001b[43m)\u001b[49m\u001b[38;5;241m.\u001b[39mquasi_dists]\n\u001b[1;32m    624\u001b[0m \u001b[38;5;28;01mif\u001b[39;00m \u001b[38;5;28mself\u001b[39m\u001b[38;5;241m.\u001b[39m_circuit_multipl \u001b[38;5;241m==\u001b[39m \u001b[38;5;241m1\u001b[39m:\n\u001b[1;32m    625\u001b[0m     \u001b[38;5;28;01mreturn\u001b[39;00m distr\n",
      "File \u001b[0;32m~/miniconda3/lib/python3.12/site-packages/qiskit/primitives/primitive_job.py:51\u001b[0m, in \u001b[0;36mPrimitiveJob.result\u001b[0;34m(self)\u001b[0m\n\u001b[1;32m     49\u001b[0m \u001b[38;5;28;01mdef\u001b[39;00m \u001b[38;5;21mresult\u001b[39m(\u001b[38;5;28mself\u001b[39m) \u001b[38;5;241m-\u001b[39m\u001b[38;5;241m>\u001b[39m ResultT:\n\u001b[1;32m     50\u001b[0m     \u001b[38;5;28mself\u001b[39m\u001b[38;5;241m.\u001b[39m_check_submitted()\n\u001b[0;32m---> 51\u001b[0m     \u001b[38;5;28;01mreturn\u001b[39;00m \u001b[38;5;28;43mself\u001b[39;49m\u001b[38;5;241;43m.\u001b[39;49m\u001b[43m_future\u001b[49m\u001b[38;5;241;43m.\u001b[39;49m\u001b[43mresult\u001b[49m\u001b[43m(\u001b[49m\u001b[43m)\u001b[49m\n",
      "File \u001b[0;32m~/miniconda3/lib/python3.12/concurrent/futures/_base.py:451\u001b[0m, in \u001b[0;36mFuture.result\u001b[0;34m(self, timeout)\u001b[0m\n\u001b[1;32m    448\u001b[0m \u001b[38;5;28;01melif\u001b[39;00m \u001b[38;5;28mself\u001b[39m\u001b[38;5;241m.\u001b[39m_state \u001b[38;5;241m==\u001b[39m FINISHED:\n\u001b[1;32m    449\u001b[0m     \u001b[38;5;28;01mreturn\u001b[39;00m \u001b[38;5;28mself\u001b[39m\u001b[38;5;241m.\u001b[39m__get_result()\n\u001b[0;32m--> 451\u001b[0m \u001b[38;5;28;43mself\u001b[39;49m\u001b[38;5;241;43m.\u001b[39;49m\u001b[43m_condition\u001b[49m\u001b[38;5;241;43m.\u001b[39;49m\u001b[43mwait\u001b[49m\u001b[43m(\u001b[49m\u001b[43mtimeout\u001b[49m\u001b[43m)\u001b[49m\n\u001b[1;32m    453\u001b[0m \u001b[38;5;28;01mif\u001b[39;00m \u001b[38;5;28mself\u001b[39m\u001b[38;5;241m.\u001b[39m_state \u001b[38;5;129;01min\u001b[39;00m [CANCELLED, CANCELLED_AND_NOTIFIED]:\n\u001b[1;32m    454\u001b[0m     \u001b[38;5;28;01mraise\u001b[39;00m CancelledError()\n",
      "File \u001b[0;32m~/miniconda3/lib/python3.12/threading.py:355\u001b[0m, in \u001b[0;36mCondition.wait\u001b[0;34m(self, timeout)\u001b[0m\n\u001b[1;32m    353\u001b[0m \u001b[38;5;28;01mtry\u001b[39;00m:    \u001b[38;5;66;03m# restore state no matter what (e.g., KeyboardInterrupt)\u001b[39;00m\n\u001b[1;32m    354\u001b[0m     \u001b[38;5;28;01mif\u001b[39;00m timeout \u001b[38;5;129;01mis\u001b[39;00m \u001b[38;5;28;01mNone\u001b[39;00m:\n\u001b[0;32m--> 355\u001b[0m         \u001b[43mwaiter\u001b[49m\u001b[38;5;241;43m.\u001b[39;49m\u001b[43macquire\u001b[49m\u001b[43m(\u001b[49m\u001b[43m)\u001b[49m\n\u001b[1;32m    356\u001b[0m         gotit \u001b[38;5;241m=\u001b[39m \u001b[38;5;28;01mTrue\u001b[39;00m\n\u001b[1;32m    357\u001b[0m     \u001b[38;5;28;01melse\u001b[39;00m:\n",
      "\u001b[0;31mKeyboardInterrupt\u001b[0m: "
     ]
    }
   ],
   "source": [
    "import slowquant.SlowQuant as sq\n",
    "from qiskit_aer.primitives import Sampler, Estimator\n",
    "from qiskit_nature.second_q.mappers import JordanWignerMapper\n",
    "from slowquant.qiskit_interface.interface import QuantumInterface\n",
    "from slowquant.qiskit_interface.wavefunction import WaveFunction\n",
    "import pyscf\n",
    "from pyscf import mcscf, mp\n",
    "\n",
    "mol = pyscf.M(atom=f\"\"\"O   0.0  0.0           {0.1035174918};\n",
    "H   0.0  {0.7955612117} {-0.4640237459};\n",
    "H   0.0 {-0.7955612117} {-0.4640237459};\"\"\", basis=\"sto3g\", unit=\"angstrom\")\n",
    "myhf = mol.RHF().run()\n",
    "mymp = mp.MP2(myhf).run()\n",
    "noons, natorbs = mcscf.addons.make_natural_orbitals(mymp)\n",
    "\n",
    "primitive = Sampler(run_options={'shots': None})\n",
    "mapper = JordanWignerMapper()\n",
    "QI = QuantumInterface(primitive, \"UCCSD\", mapper)\n",
    "\n",
    "WF = WaveFunction(\n",
    "    mol.nao * 2,\n",
    "    mol.nelectron,\n",
    "    (4, 4),\n",
    "    natorbs,\n",
    "    mol.intor(\"int1e_kin\") + mol.intor(\"int1e_nuc\"),\n",
    "    mol.intor(\"int2e\"),\n",
    "    QI,\n",
    ")\n",
    "\n",
    "WF.run_vqe_2step(\"RotoSolve\", True)"
   ]
  },
  {
   "cell_type": "code",
   "execution_count": null,
   "id": "541a3bf0-b3f0-425d-a1d0-990986fe8e71",
   "metadata": {},
   "outputs": [],
   "source": []
  }
 ],
 "metadata": {
  "kernelspec": {
   "display_name": "Python 3 (ipykernel)",
   "language": "python",
   "name": "python3"
  },
  "language_info": {
   "codemirror_mode": {
    "name": "ipython",
    "version": 3
   },
   "file_extension": ".py",
   "mimetype": "text/x-python",
   "name": "python",
   "nbconvert_exporter": "python",
   "pygments_lexer": "ipython3",
   "version": "3.12.2"
  }
 },
 "nbformat": 4,
 "nbformat_minor": 5
}
